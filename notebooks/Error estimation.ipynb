{
 "cells": [
  {
   "cell_type": "code",
   "execution_count": 2,
   "id": "1880db4f",
   "metadata": {},
   "outputs": [],
   "source": [
    "# Package imports\n",
    "import numpy as np\n",
    "import os\n",
    "import pandas as pd\n",
    "import proplot as pplt\n",
    "import sys\n",
    "from scipy.spatial.distance import cdist\n",
    "sys.path.append('../../drifter/')\n",
    "import utilities.cleaning as clean\n",
    "import utilities.interpolation as interp\n",
    "\n",
    "from importlib import reload\n",
    "clean = reload(clean)\n",
    "interp = reload(interp)\n",
    "\n",
    "# Folder with the drift tracks from \n",
    "# the Arctic Data Center (Bliss et al. 2021)\n",
    "# https://arcticdata.io/catalog/view/urn%3Auuid%3A2b859a39-cada-4147-819a-dc222f6f89a3\n",
    "dataloc = '../../data/adc_dn_tracks/'\n",
    "saveloc = '../data/mosaic_interpolated/'\n",
    "# Maximum gap in hours for the interpolation algorithm\n",
    "max_dt = 2\n",
    "\n",
    "# Compute uncertainty threshold for splines?\n",
    "recompute_thresh = False\n",
    "\n",
    "# Pad for interpolation, so that the first and last values aren't missing.\n",
    "margin = pd.to_timedelta('6H')\n",
    "buoy_data = {}\n",
    "\n",
    "\n",
    "# Optional: focus in on only a portion of the tracks\n",
    "begin = '2019-10-01 00:00'\n",
    "end = '2022-01-01 00:00'\n",
    "\n",
    "# Read in the files, including the metadata file\n",
    "metadata = pd.read_csv(dataloc + 'DN_buoy_list_v2.csv')\n",
    "metadata['filename'] = ['_'.join([x, str(y), z]) for \n",
    "                        x, y, z in zip(metadata['DN Station ID'],\n",
    "                                       metadata['IMEI'],\n",
    "                                       metadata['Sensor ID'])]\n",
    "    \n",
    "file_present = np.array([f + '.csv' in files for f in metadata.filename])\n",
    "metadata = metadata.loc[file_present].copy()\n",
    "metadata.set_index('Sensor ID', inplace=True)\n",
    "\n",
    "dataloc = '../data/mosaic_qc/'\n",
    "files = os.listdir(dataloc)\n",
    "files = [f for f in files if f.split('.')[-1] == 'csv']\n",
    "files = [f for f in files if f.split('_')[0] != 'DN']\n",
    "\n",
    "\n",
    "buoy_data = {}\n",
    "freq = []\n",
    "buoys = []\n",
    "for file in files:\n",
    "    data = pd.read_csv(dataloc + file, index_col='datetime', parse_dates=True)\n",
    "    dt = pd.to_timedelta(np.diff(data.index)).median().seconds/3600\n",
    "    buoy = file.replace('.csv', '').split('_')[-1]\n",
    "    if np.round(dt,1) <= max_dt:\n",
    "        buoy_data[buoy] = data.copy()\n",
    "        freq.append(np.round(dt, 1))\n",
    "        buoys.append(buoy)\n",
    "    else:\n",
    "        print(buoy, dt)\n",
    "buoy_freq = pd.Series(freq, buoys)\n"
   ]
  },
  {
   "cell_type": "code",
   "execution_count": 3,
   "id": "faca275c",
   "metadata": {},
   "outputs": [],
   "source": [
    "dataloc = '../data/mosaic_interpolated/'\n",
    "files = os.listdir(dataloc)\n",
    "files = [f for f in files if f.split('.')[-1] == 'csv']\n",
    "files = [f for f in files if f.split('_')[0] != 'DN']\n",
    "\n",
    "buoy_data_interp = {}\n",
    "for file in files:\n",
    "    data = pd.read_csv(dataloc + file, index_col='datetime', parse_dates=True)\n",
    "    \n",
    "    buoy = file.replace('.csv', '').split('_')[-1]\n",
    "    \n",
    "    buoy_data_interp[buoy] = data.copy()\n",
    "    \n",
    "\n"
   ]
  },
  {
   "cell_type": "code",
   "execution_count": 21,
   "id": "f79f0c2d",
   "metadata": {},
   "outputs": [],
   "source": [
    "df_x = pd.DataFrame({buoy: buoy_data_interp[buoy]['x'] for buoy in buoy_data})\n",
    "df_y = pd.DataFrame({buoy: buoy_data_interp[buoy]['y'] for buoy in buoy_data})"
   ]
  },
  {
   "cell_type": "code",
   "execution_count": 29,
   "id": "590a7290",
   "metadata": {},
   "outputs": [],
   "source": [
    "timeslice = slice('2019-11-01 00:00', '2019-11-15 00:00')\n",
    "X = df_x.loc[timeslice].median().dropna()\n",
    "Y = df_y.loc[timeslice].median().dropna()"
   ]
  },
  {
   "cell_type": "code",
   "execution_count": 108,
   "id": "fcd1d492",
   "metadata": {},
   "outputs": [],
   "source": [
    "X = np.array([df_x.iloc[10,:].fillna(0), df_y.iloc[10,:].fillna(0)]).T"
   ]
  },
  {
   "cell_type": "code",
   "execution_count": 109,
   "id": "f2e37706",
   "metadata": {},
   "outputs": [],
   "source": [
    "from scipy.spatial import distance_matrix\n",
    "dist = distance_matrix(X, X, p=2)\n",
    "dist = pd.DataFrame(data=dist, columns=df_x.columns, index=df_x.columns)"
   ]
  },
  {
   "cell_type": "code",
   "execution_count": 117,
   "id": "35e91d6f",
   "metadata": {},
   "outputs": [
    {
     "data": {
      "text/html": [
       "<div>\n",
       "<style scoped>\n",
       "    .dataframe tbody tr th:only-of-type {\n",
       "        vertical-align: middle;\n",
       "    }\n",
       "\n",
       "    .dataframe tbody tr th {\n",
       "        vertical-align: top;\n",
       "    }\n",
       "\n",
       "    .dataframe thead th {\n",
       "        text-align: right;\n",
       "    }\n",
       "</style>\n",
       "<table border=\"1\" class=\"dataframe\">\n",
       "  <thead>\n",
       "    <tr style=\"text-align: right;\">\n",
       "      <th></th>\n",
       "      <th>2019P161</th>\n",
       "      <th>2019F4</th>\n",
       "      <th>ASFSTUCB1</th>\n",
       "    </tr>\n",
       "    <tr>\n",
       "      <th>datetime</th>\n",
       "      <th></th>\n",
       "      <th></th>\n",
       "      <th></th>\n",
       "    </tr>\n",
       "  </thead>\n",
       "  <tbody>\n",
       "    <tr>\n",
       "      <th>2019-11-02 18:00:00</th>\n",
       "      <td>-390149.367333</td>\n",
       "      <td>-390370.791704</td>\n",
       "      <td>-390380.822923</td>\n",
       "    </tr>\n",
       "    <tr>\n",
       "      <th>2019-11-02 19:00:00</th>\n",
       "      <td>-390179.135919</td>\n",
       "      <td>-390396.589486</td>\n",
       "      <td>-390405.183632</td>\n",
       "    </tr>\n",
       "    <tr>\n",
       "      <th>2019-11-02 20:00:00</th>\n",
       "      <td>-390208.724704</td>\n",
       "      <td>-390432.006170</td>\n",
       "      <td>-390438.127077</td>\n",
       "    </tr>\n",
       "    <tr>\n",
       "      <th>2019-11-02 21:00:00</th>\n",
       "      <td>-390241.464981</td>\n",
       "      <td>-390462.715449</td>\n",
       "      <td>-390468.924747</td>\n",
       "    </tr>\n",
       "    <tr>\n",
       "      <th>2019-11-02 22:00:00</th>\n",
       "      <td>-390254.901026</td>\n",
       "      <td>-390480.104110</td>\n",
       "      <td>-390489.612283</td>\n",
       "    </tr>\n",
       "    <tr>\n",
       "      <th>...</th>\n",
       "      <td>...</td>\n",
       "      <td>...</td>\n",
       "      <td>...</td>\n",
       "    </tr>\n",
       "    <tr>\n",
       "      <th>2019-11-14 22:00:00</th>\n",
       "      <td>-375259.943324</td>\n",
       "      <td>-375417.824660</td>\n",
       "      <td>-375414.950207</td>\n",
       "    </tr>\n",
       "    <tr>\n",
       "      <th>2019-11-14 23:00:00</th>\n",
       "      <td>-375161.906205</td>\n",
       "      <td>-375320.705401</td>\n",
       "      <td>-375317.266421</td>\n",
       "    </tr>\n",
       "    <tr>\n",
       "      <th>2019-11-15 00:00:00</th>\n",
       "      <td>-375030.067177</td>\n",
       "      <td>-375190.505779</td>\n",
       "      <td>-375187.134279</td>\n",
       "    </tr>\n",
       "    <tr>\n",
       "      <th>2019-11-15 01:00:00</th>\n",
       "      <td>-374880.550428</td>\n",
       "      <td>-375042.728357</td>\n",
       "      <td>-375039.426490</td>\n",
       "    </tr>\n",
       "    <tr>\n",
       "      <th>2019-11-15 02:00:00</th>\n",
       "      <td>-374753.357555</td>\n",
       "      <td>-374906.854142</td>\n",
       "      <td>-374902.638692</td>\n",
       "    </tr>\n",
       "  </tbody>\n",
       "</table>\n",
       "<p>297 rows × 3 columns</p>\n",
       "</div>"
      ],
      "text/plain": [
       "                          2019P161         2019F4      ASFSTUCB1\n",
       "datetime                                                        \n",
       "2019-11-02 18:00:00 -390149.367333 -390370.791704 -390380.822923\n",
       "2019-11-02 19:00:00 -390179.135919 -390396.589486 -390405.183632\n",
       "2019-11-02 20:00:00 -390208.724704 -390432.006170 -390438.127077\n",
       "2019-11-02 21:00:00 -390241.464981 -390462.715449 -390468.924747\n",
       "2019-11-02 22:00:00 -390254.901026 -390480.104110 -390489.612283\n",
       "...                            ...            ...            ...\n",
       "2019-11-14 22:00:00 -375259.943324 -375417.824660 -375414.950207\n",
       "2019-11-14 23:00:00 -375161.906205 -375320.705401 -375317.266421\n",
       "2019-11-15 00:00:00 -375030.067177 -375190.505779 -375187.134279\n",
       "2019-11-15 01:00:00 -374880.550428 -375042.728357 -375039.426490\n",
       "2019-11-15 02:00:00 -374753.357555 -374906.854142 -374902.638692\n",
       "\n",
       "[297 rows x 3 columns]"
      ]
     },
     "execution_count": 117,
     "metadata": {},
     "output_type": "execute_result"
    }
   ],
   "source": [
    "# Just the distances between 'CO1' buoys\n",
    "df_x.loc[:, site_buoys['CO1']].dropna()"
   ]
  },
  {
   "cell_type": "code",
   "execution_count": 56,
   "id": "fb1395d4",
   "metadata": {},
   "outputs": [],
   "source": [
    "site_buoys = {}\n",
    "for name, group in metadata.loc[dist.index].groupby('DN Station ID'):\n",
    "    if name[0] == 'P':\n",
    "        name = 'P'\n",
    "    site_buoys[name] = group.index.to_list()"
   ]
  },
  {
   "cell_type": "code",
   "execution_count": 113,
   "id": "d48ce2b8",
   "metadata": {},
   "outputs": [],
   "source": [
    "order=list(np.hstack([list(site_buoys[x]) for x in site_buoys]))\n"
   ]
  },
  {
   "cell_type": "code",
   "execution_count": 111,
   "id": "144548cb",
   "metadata": {},
   "outputs": [
    {
     "data": {
      "image/png": "[encoded data removed]",
      "text/plain": [
       "Figure(nrows=1, ncols=1, figwidth=4.0)"
      ]
     },
     "metadata": {
      "image/png": {
       "height": 344,
       "width": 400
      }
     },
     "output_type": "display_data"
    }
   ],
   "source": [
    "fig, ax = pplt.subplots(width=4)\n",
    "ax.heatmap(dist.loc[site_buoys['CO1'],  site_buoys['CO1']]/1e3, colorbar='r')\n",
    "ax.format(xrotation=90)"
   ]
  },
  {
   "cell_type": "code",
   "execution_count": 77,
   "id": "90660b71",
   "metadata": {},
   "outputs": [
    {
     "data": {
      "text/plain": [
       "1180.5273886077703"
      ]
     },
     "execution_count": 77,
     "metadata": {},
     "output_type": "execute_result"
    }
   ],
   "source": [
    "np.sqrt((X['2019P161'] - X['ASFSTUCB1'])**2 + (Y['2019P161'] - Y['ASFSTUCB1'])**2)"
   ]
  },
  {
   "cell_type": "code",
   "execution_count": 78,
   "id": "bfe75d77",
   "metadata": {},
   "outputs": [
    {
     "data": {
      "text/plain": [
       "191370.19578734768"
      ]
     },
     "execution_count": 78,
     "metadata": {},
     "output_type": "execute_result"
    }
   ],
   "source": [
    "dist.loc['2019P161', 'ASFSTUCB1']"
   ]
  },
  {
   "cell_type": "code",
   "execution_count": null,
   "id": "bec1881d",
   "metadata": {},
   "outputs": [],
   "source": []
  }
 ],
 "metadata": {
  "kernelspec": {
   "display_name": "Python 3 (ipykernel)",
   "language": "python",
   "name": "python3"
  },
  "language_info": {
   "codemirror_mode": {
    "name": "ipython",
    "version": 3
   },
   "file_extension": ".py",
   "mimetype": "text/x-python",
   "name": "python",
   "nbconvert_exporter": "python",
   "pygments_lexer": "ipython3",
   "version": "3.9.13"
  }
 },
 "nbformat": 4,
 "nbformat_minor": 5
}
