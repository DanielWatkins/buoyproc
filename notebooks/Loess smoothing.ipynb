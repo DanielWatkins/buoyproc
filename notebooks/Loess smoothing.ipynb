{
 "cells": [
  {
   "cell_type": "markdown",
   "id": "65f59725",
   "metadata": {},
   "source": [
    "Elipot et al. (2016) found that using LOESS to simultaneously smooth and find local derivatives provided better spectral performance for higher frequency variability. \n",
    "\n",
    "The idea of LOESS smoothing (or LOWESS or other methods) is to use local linear approximations successively, weighted by the error in the linear approximation. The parameters include the number of iterations to use and the fraction of data to use in each fit. \n",
    "\n"
   ]
  }
 ],
 "metadata": {
  "kernelspec": {
   "display_name": "Python 3 (ipykernel)",
   "language": "python",
   "name": "python3"
  },
  "language_info": {
   "codemirror_mode": {
    "name": "ipython",
    "version": 3
   },
   "file_extension": ".py",
   "mimetype": "text/x-python",
   "name": "python",
   "nbconvert_exporter": "python",
   "pygments_lexer": "ipython3",
   "version": "3.9.13"
  }
 },
 "nbformat": 4,
 "nbformat_minor": 5
}
